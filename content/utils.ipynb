{
 "cells": [
  {
   "cell_type": "markdown",
   "id": "utils_title",
   "metadata": {},
   "source": [
    "# Utility Functions\n"
   ]
  },
  {
   "cell_type": "markdown",
   "id": "import_helper_desc",
   "metadata": {},
   "source": [
    "Helper function for importing notebooks cleanly without output.\n"
   ]
  },
  {
   "cell_type": "code",
   "execution_count": null,
   "id": "import_helper",
   "metadata": {},
   "outputs": [],
   "source": [
    "def import_notebooks(notebooks):\n",
    "    \"\"\"Import a list of notebooks silently.\n",
    "    \n",
    "    Args:\n",
    "        notebooks (list): List of notebook paths to import\n",
    "    \"\"\"\n",
    "    import sys\n",
    "    from io import StringIO\n",
    "    \n",
    "    for nb in notebooks:\n",
    "        try:\n",
    "            # Capture all possible output\n",
    "            old_stdout = sys.stdout\n",
    "            old_stderr = sys.stderr\n",
    "            sys.stdout = StringIO()\n",
    "            sys.stderr = StringIO()\n",
    "            \n",
    "            get_ipython().run_cell_magic(\"capture\", \"--no-stderr --no-stdout\", f\"%run {nb}\")\n",
    "            \n",
    "        except Exception:\n",
    "            pass\n",
    "        finally:\n",
    "            # Restore stdout/stderr\n",
    "            sys.stdout = old_stdout\n",
    "            sys.stderr = old_stderr\n"
   ]
  }
 ],
 "metadata": {
  "kernelspec": {
   "display_name": "Python 3 (ipykernel)",
   "language": "python",
   "name": "python3"
  },
  "language_info": {
   "codemirror_mode": {
    "name": "ipython",
    "version": 3
   },
   "file_extension": ".py",
   "mimetype": "text/x-python",
   "name": "python",
   "nbconvert_exporter": "python",
   "pygments_lexer": "ipython3",
   "version": "3.9.13"
  }
 },
 "nbformat": 4,
 "nbformat_minor": 5
}